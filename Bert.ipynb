{
  "cells": [
    {
      "cell_type": "code",
      "execution_count": null,
      "metadata": {
        "colab": {
          "base_uri": "https://localhost:8080/"
        },
        "id": "KN15f6irW2PT",
        "outputId": "ec4533f1-9e57-43a6-d9d5-89ebc60144cd"
      },
      "outputs": [
        {
          "name": "stdout",
          "output_type": "stream",
          "text": [
            "Drive already mounted at /content/gdrive; to attempt to forcibly remount, call drive.mount(\"/content/gdrive\", force_remount=True).\n"
          ]
        }
      ],
      "source": [
        "from google.colab import drive\n",
        "drive.mount('/content/gdrive')"
      ]
    },
    {
      "cell_type": "code",
      "execution_count": null,
      "metadata": {
        "colab": {
          "base_uri": "https://localhost:8080/"
        },
        "id": "FnZROdXYvSaw",
        "outputId": "8ec9d8c5-6f65-4b06-9a0a-fa75769083fc"
      },
      "outputs": [
        {
          "name": "stdout",
          "output_type": "stream",
          "text": [
            "Collecting transformers\n",
            "  Downloading transformers-4.31.0-py3-none-any.whl (7.4 MB)\n",
            "\u001b[2K     \u001b[90m━━━━━━━━━━━━━━━━━━━━━━━━━━━━━━━━━━━━━━━━\u001b[0m \u001b[32m7.4/7.4 MB\u001b[0m \u001b[31m25.2 MB/s\u001b[0m eta \u001b[36m0:00:00\u001b[0m\n",
            "\u001b[?25hRequirement already satisfied: filelock in /usr/local/lib/python3.10/dist-packages (from transformers) (3.12.2)\n",
            "Collecting huggingface-hub<1.0,>=0.14.1 (from transformers)\n",
            "  Downloading huggingface_hub-0.16.4-py3-none-any.whl (268 kB)\n",
            "\u001b[2K     \u001b[90m━━━━━━━━━━━━━━━━━━━━━━━━━━━━━━━━━━━━━━\u001b[0m \u001b[32m268.8/268.8 kB\u001b[0m \u001b[31m26.2 MB/s\u001b[0m eta \u001b[36m0:00:00\u001b[0m\n",
            "\u001b[?25hRequirement already satisfied: numpy>=1.17 in /usr/local/lib/python3.10/dist-packages (from transformers) (1.22.4)\n",
            "Requirement already satisfied: packaging>=20.0 in /usr/local/lib/python3.10/dist-packages (from transformers) (23.1)\n",
            "Requirement already satisfied: pyyaml>=5.1 in /usr/local/lib/python3.10/dist-packages (from transformers) (6.0)\n",
            "Requirement already satisfied: regex!=2019.12.17 in /usr/local/lib/python3.10/dist-packages (from transformers) (2022.10.31)\n",
            "Requirement already satisfied: requests in /usr/local/lib/python3.10/dist-packages (from transformers) (2.27.1)\n",
            "Collecting tokenizers!=0.11.3,<0.14,>=0.11.1 (from transformers)\n",
            "  Downloading tokenizers-0.13.3-cp310-cp310-manylinux_2_17_x86_64.manylinux2014_x86_64.whl (7.8 MB)\n",
            "\u001b[2K     \u001b[90m━━━━━━━━━━━━━━━━━━━━━━━━━━━━━━━━━━━━━━━━\u001b[0m \u001b[32m7.8/7.8 MB\u001b[0m \u001b[31m50.0 MB/s\u001b[0m eta \u001b[36m0:00:00\u001b[0m\n",
            "\u001b[?25hCollecting safetensors>=0.3.1 (from transformers)\n",
            "  Downloading safetensors-0.3.1-cp310-cp310-manylinux_2_17_x86_64.manylinux2014_x86_64.whl (1.3 MB)\n",
            "\u001b[2K     \u001b[90m━━━━━━━━━━━━━━━━━━━━━━━━━━━━━━━━━━━━━━━━\u001b[0m \u001b[32m1.3/1.3 MB\u001b[0m \u001b[31m47.7 MB/s\u001b[0m eta \u001b[36m0:00:00\u001b[0m\n",
            "\u001b[?25hRequirement already satisfied: tqdm>=4.27 in /usr/local/lib/python3.10/dist-packages (from transformers) (4.65.0)\n",
            "Requirement already satisfied: fsspec in /usr/local/lib/python3.10/dist-packages (from huggingface-hub<1.0,>=0.14.1->transformers) (2023.6.0)\n",
            "Requirement already satisfied: typing-extensions>=3.7.4.3 in /usr/local/lib/python3.10/dist-packages (from huggingface-hub<1.0,>=0.14.1->transformers) (4.7.1)\n",
            "Requirement already satisfied: urllib3<1.27,>=1.21.1 in /usr/local/lib/python3.10/dist-packages (from requests->transformers) (1.26.16)\n",
            "Requirement already satisfied: certifi>=2017.4.17 in /usr/local/lib/python3.10/dist-packages (from requests->transformers) (2023.5.7)\n",
            "Requirement already satisfied: charset-normalizer~=2.0.0 in /usr/local/lib/python3.10/dist-packages (from requests->transformers) (2.0.12)\n",
            "Requirement already satisfied: idna<4,>=2.5 in /usr/local/lib/python3.10/dist-packages (from requests->transformers) (3.4)\n",
            "Installing collected packages: tokenizers, safetensors, huggingface-hub, transformers\n",
            "Successfully installed huggingface-hub-0.16.4 safetensors-0.3.1 tokenizers-0.13.3 transformers-4.31.0\n"
          ]
        }
      ],
      "source": [
        "!pip install transformers"
      ]
    },
    {
      "cell_type": "code",
      "execution_count": null,
      "metadata": {
        "id": "alK2pbbqvWG5"
      },
      "outputs": [],
      "source": [
        "from transformers import BertTokenizer, TFBertForMaskedLM\n",
        "import tensorflow as tf\n",
        "import os\n",
        "import numpy as np\n",
        "import re\n",
        "import matplotlib.pyplot as plt"
      ]
    },
    {
      "cell_type": "code",
      "execution_count": null,
      "metadata": {
        "colab": {
          "base_uri": "https://localhost:8080/"
        },
        "id": "ZT5xHgvfvcZi",
        "outputId": "67929eba-4534-4baa-a823-f8e125ad0929"
      },
      "outputs": [
        {
          "name": "stderr",
          "output_type": "stream",
          "text": [
            "All model checkpoint layers were used when initializing TFBertForMaskedLM.\n",
            "\n",
            "All the layers of TFBertForMaskedLM were initialized from the model checkpoint at /content/gdrive/MyDrive/Bert.\n",
            "If your task is similar to the task the model of the checkpoint was trained on, you can already use TFBertForMaskedLM for predictions without further training.\n"
          ]
        }
      ],
      "source": [
        "tokenizer = BertTokenizer.from_pretrained('bert-base-uncased')\n",
        "#model = TFBertForMaskedLM.from_pretrained('bert-base-uncased')\n",
        "model = TFBertForMaskedLM.from_pretrained('/content/gdrive/MyDrive/Bert')"
      ]
    },
    {
      "cell_type": "code",
      "execution_count": null,
      "metadata": {
        "colab": {
          "base_uri": "https://localhost:8080/"
        },
        "id": "SxEQy05Gv0ii",
        "outputId": "bda22364-4d6c-4c89-b535-dc12c41fab99"
      },
      "outputs": [
        {
          "name": "stdout",
          "output_type": "stream",
          "text": [
            "Model: \"tf_bert_for_masked_lm\"\n",
            "_________________________________________________________________\n",
            " Layer (type)                Output Shape              Param #   \n",
            "=================================================================\n",
            " bert (TFBertMainLayer)      multiple                  108891648 \n",
            "                                                                 \n",
            " mlm___cls (TFBertMLMHead)   multiple                  24459834  \n",
            "                                                                 \n",
            "=================================================================\n",
            "Total params: 109,514,298\n",
            "Trainable params: 109,514,298\n",
            "Non-trainable params: 0\n",
            "_________________________________________________________________\n"
          ]
        }
      ],
      "source": [
        "model.summary()\n"
      ]
    },
    {
      "cell_type": "code",
      "execution_count": null,
      "metadata": {
        "id": "qZSDRnY4v2_D"
      },
      "outputs": [],
      "source": [
        "with open('/content/gdrive/MyDrive/train.txt','r') as f:\n",
        "    file = f.read().split(\"\\n\")\n",
        "text_lst = []\n",
        "for line in file:\n",
        "      text_lst.append(line)\n",
        "\n",
        "with open('/content/gdrive/MyDrive/test.txt','r') as f:\n",
        "    file = f.read().split(\"\\n\")\n",
        "text_lst_test = []\n",
        "for line in file:\n",
        "      text_lst_test.append(line)"
      ]
    },
    {
      "cell_type": "code",
      "execution_count": null,
      "metadata": {
        "colab": {
          "base_uri": "https://localhost:8080/"
        },
        "id": "wG6R2tIrwke2",
        "outputId": "3bcccb68-7692-4ddf-e318-0e14ee043b5d"
      },
      "outputs": [
        {
          "data": {
            "text/plain": [
              "['two young , white males are outside near many bushes .',\n",
              " 'several men in hard hats are operating a giant pulley system .',\n",
              " 'a little girl climbing into a wooden playhouse .',\n",
              " 'a man in a blue shirt is standing on a ladder cleaning a window .',\n",
              " 'two men are at the stove preparing food .',\n",
              " 'a man in green holds a guitar while the other man observes his shirt .',\n",
              " 'a man is smiling at a stuffed lion',\n",
              " 'a trendy girl talking on her cellphone while gliding slowly down the street .',\n",
              " 'a woman with a large purse is walking by a gate .',\n",
              " 'boys dancing on poles in the middle of the night .',\n",
              " 'a ballet class of five girls jumping in sequence .',\n",
              " 'four guys three wearing hats one not are jumping at the top of a staircase .',\n",
              " 'a black dog and a spotted dog are fighting',\n",
              " 'a man in a neon green and orange uniform is driving on a green tractor .',\n",
              " 'several women wait outside in a city .',\n",
              " 'a lady in a black top with glasses is sprinkling powdered sugar on a bundt cake .',\n",
              " 'a little girl is sitting in front of a large painted rainbow .',\n",
              " 'a man lays on the bench to which a white dog is also tied .',\n",
              " 'five people are sitting in a circle with instruments .',\n",
              " 'a bunch of elderly women play their clarinets together as they read off sheet music .',\n",
              " 'a large structure has broken and is laying in a roadway .',\n",
              " 'a large crowd of people stand outside in front of the entrance to a metro station .',\n",
              " 'a man getting a tattoo on his back .',\n",
              " 'two children sit on a small seesaw in the sand .',\n",
              " 'a man wearing a reflective vest and a hard hat holds a flag in the road',\n",
              " 'a person dressed in a blue coat is standing in on a busy sidewalk , studying painting of a street scene .',\n",
              " 'a man in green pants walking down the road .',\n",
              " 'the small child climbs on a red ropes on a playground .',\n",
              " 'you know i am looking like justin bieber .',\n",
              " 'a young man in a black and yellow jacket is gazing at something and smiling .',\n",
              " 'a man standing at a urinal with a coffee cup .',\n",
              " 'five people walking with a multicolored sky in the background .',\n",
              " 'a old man having a beer alone .',\n",
              " 'a trained police dog sits next to his handler in front of the police van .',\n",
              " 'a person riding a bike on a snowy road .',\n",
              " 'five men , uniformly dressed in white shirts , tie and black slacks converse at the back of an open van .',\n",
              " 'a man with a backwards hat works on machinery .',\n",
              " 'a black woman and a white man working in a factory setting packing jars with candles into boxes .',\n",
              " 'asian man sweeping the walkway .',\n",
              " 'a man leans into a car to talk to the driver , as a man on a bicycle looks on .',\n",
              " 'two young toddlers outside on the grass .',\n",
              " 'people are watching a person in a weird vehicle in a plaza .',\n",
              " 'a man walks by a silver vehicle .',\n",
              " 'a beautiful bride walking on a sidewalk with her new husband .',\n",
              " 'a little boy playing gamecube at a mcdonald &apos;s .',\n",
              " 'a white dog shakes on the edge of a beach with an orange ball .',\n",
              " 'a group of people having a barbecue at a park .',\n",
              " 'a man in sunglasses puts his arm around a woman in a black and white blouse .',\n",
              " 'a man with a balloon hat and people eating outdoors at picnic tables .',\n",
              " 'a boy jump kicking over three kids kicking wood during a tae kwon do competition .',\n",
              " 'a boy in a red jacket pouring water on a man in a white shirt',\n",
              " 'a man with a red jacket is shielding himself from the sun trying to read a piece of paper .',\n",
              " 'men walking down a street with children .',\n",
              " 'a little boy is standing on the street while a man in overalls is working on a stone wall .',\n",
              " 'a black dog leaps over a log .',\n",
              " 'a man in a suit is running past two other gentleman , also dressed in a suit .',\n",
              " 'man in a red shirt riding his bicycle around water .',\n",
              " 'a barefooted man wearing olive green shorts grilling hotdogs on a small propane grill while holding a blue plastic cup .',\n",
              " 'a dog is running in the snow',\n",
              " 'a crowd is standing and waiting for the green light .',\n",
              " 'man on skis looking at artwork for sale in the snow',\n",
              " 'seven climbers are ascending a rock face whilst another man stands holding the rope .',\n",
              " 'the young gymnast &apos;s supple body soars above the balance beam .',\n",
              " 'a young boy is pushing a toy atv around a rubber pool',\n",
              " 'woman in red windbreaker looking though a rooftop binoculars at the city below .',\n",
              " 'a man is standing in front of a small red object that looks like a plane .',\n",
              " 'a dog is playing with a hose .',\n",
              " 'a man and a little girl happily posing in front of their cart in a supermarket .',\n",
              " 'a white dog is about to catch a yellow dog toy .',\n",
              " 'guy in green shirt with hand covering part of his face in restaurant booth .',\n",
              " 'a black and white dog jumps up towards a yellow toy .',\n",
              " 'two hikers resting by a patch of snow .',\n",
              " 'a man showing off his new wooden creation .',\n",
              " 'a elderly father and his grown son are preparing for a camping trip in the wild .',\n",
              " 'a bearded traveler in a red shirt sitting in a car and reading a map .',\n",
              " 'a young boy waves his hand at the duck in the water surrounded by a green park .',\n",
              " 'a couple sit on the grass with a baby and stroller .',\n",
              " 'some men standing in front of a building next to a parked car .',\n",
              " 'the black dog runs through the water .',\n",
              " 'a man is drilling through the frozen ice of a pond .',\n",
              " 'two large tan dogs play along a sandy beach .',\n",
              " 'a person in blue and red ice climbing with two picks .',\n",
              " 'three people walking on a path in a meadow .',\n",
              " 'a man in black attire shovels snow into the street , disregarding all public safety .',\n",
              " 'a couple stands behind their wedding cake .',\n",
              " 'a wet black dog is carrying a green toy through the grass .',\n",
              " 'villagers selling their crops at the market .',\n",
              " 'in a crowded concert a man in white is approaching the main singer who is wearing a yellow shirt .',\n",
              " 'a boy jumps on his skateboard while a crowd watches',\n",
              " 'a man and a baby are in a yellow kayak on water .',\n",
              " 'two people are sitting on a bench , and one women is standing by them .',\n",
              " 'a construction site on a street with three men working .',\n",
              " 'two men sitting on a bench talking , with a billboard advertisement for glasses in the background .',\n",
              " 'a group of youths march down the street waving flags showing the color spectrum .',\n",
              " 'three old men are watching another man prepare fish .',\n",
              " 'a woman in a white tank top with a green flowing skirt , on stage singing a song .',\n",
              " 'two men and two women sitting on steps outdoors .',\n",
              " 'a brown and black lab are outside and the black lab is catching a toy in its mouth .',\n",
              " 'hockey goalie boy in red jacket crouches by goal , with stick .',\n",
              " 'the man with the backpack is sitting in a buildings courtyard in front of an art sculpture reading .',\n",
              " 'toddler boy in a red hat holding on to some railings .',\n",
              " 'three dogs stand in a grassy field while a person kneels nearby .',\n",
              " 'a man is standing in front of a skyscraper',\n",
              " 'a woman is walking her baby with a stroller at the local park .',\n",
              " 'a man in a red shirt is sitting by fruit for sale .',\n",
              " 'a young blond-haired boy and a dark-haired girl are eating at a kid &apos;s table .',\n",
              " 'the boy eats his food outside at the table .',\n",
              " 'a man wearing black is playing an electric guitar at a concert .',\n",
              " 'a girl playing softball hits the ball almost directly downwards',\n",
              " 'a man in a black shirt plays a black-colored guitar .',\n",
              " 'a man wearing a black shirt smoothing out concrete in an urban area .',\n",
              " 'a woman in a white shirt is sitting at a table in a nice restaurant .',\n",
              " 'a woman is laying on a red blanket in a park .',\n",
              " 'a solitary man stand on a bridge in the evening .',\n",
              " 'a child walks in a grassy field .',\n",
              " 'a man and his dog are grilling green beans on a grill .',\n",
              " 'three people rest on a ledge above the moutains .',\n",
              " 'many people cross a very tall footbridge with a tree-covered hill in the background .',\n",
              " 'a young boy overlooking a crowd of inflatable boats .',\n",
              " 'two little girls and an old man have a conversation .',\n",
              " 'asian man and blond woman holding hands outdoors , man in background watches .',\n",
              " 'an older man with gray hair is sitting in a chair playing a large instrument made of bamboo .',\n",
              " 'a man in a white shirt rides a bicycle on a busy street .',\n",
              " 'a man is standing on a ladder painting bricks',\n",
              " 'a 30 somethings man playing with his phone on a subway train .',\n",
              " 'two women are walking in a crosswalk with a bus in the background .',\n",
              " 'a group of people are eating noddles .',\n",
              " 'a woman is carrying a bowl full of fruit on her head near the ocean side .',\n",
              " 'a guy wearing blue in a hole .',\n",
              " 'four children are smiling as they pose together with a bicycle that is much too big for them .',\n",
              " 'two individuals , a male and a female , standing in a forested area around a tub .',\n",
              " 'a sleeping baby is in someone &apos;s arms and wearing a pink striped outfit',\n",
              " 'a member of an african tribe is watching the camera intently in tribal dress .',\n",
              " 'a samurai warrior in full black dress takes his sword from the sheath on an outdoor training mat .',\n",
              " 'several young people sitting on a rail above a crowded beach .',\n",
              " 'five hikers , one facing towards the camera and the others facing away from it , are walking through a rocky riverbed .',\n",
              " 'a security guard stands by a metal , lighted sculpture .',\n",
              " 'two women , one in green and the other in purple , washing a sidewalk .',\n",
              " 'two girls crouch in front of some bushes and talk on their phones .',\n",
              " 'a young girl wearing a multicolored holding an orange ball in her right hand walking through bright green grass behind a house',\n",
              " 'a young child playing with a toy while laying on the floor .',\n",
              " 'a little boy skateboarder is doing a trick on his board while another young skateboarder watches .',\n",
              " 'two kids are laughing in the grass .',\n",
              " 'young woman holding a bottle , reaching out from a bench to shake a man &apos;s hand .',\n",
              " 'a driver communicating on his walkie talkie .',\n",
              " 'a girl paddling down a large river , as seen from behind her .',\n",
              " 'a girl with pigtails plays in the water .',\n",
              " 'a couple wearing white sweaters sit at a restaurant table .',\n",
              " 'a meal is on a table in a restaurant .',\n",
              " 'two construction workers take a seat on a steel beam .',\n",
              " 'a child happily mixing batter in a bowl .',\n",
              " 'two children play with a balloon in mud on a sunny day .',\n",
              " 'a little girl looking at a brochure on train rides',\n",
              " 'two women are sitting and talking and laughing together .',\n",
              " 'people jogging together on a park sidewalk .',\n",
              " 'a little kid is jumping off a high dive at the pool .',\n",
              " 'a light-colored dog runs on the beach .',\n",
              " 'a man lounges in a wooden basin of water while eating a fruit .',\n",
              " 'a man is sleeping on a bench near a bus stop .',\n",
              " 'a little girl in a red shirt and jeans climbs a small tree while another little girl looks on .',\n",
              " 'a man asleep in a car that &apos;s driving .',\n",
              " 'a woman in a red shirt is under a blanket and sleeping in a vehicle .',\n",
              " 'a man in a home kitchen is flipping a pancake extremely high .',\n",
              " 'several firefighters are responding to an alarm .',\n",
              " 'several firefighters stand outside of a building near their firetrucks .',\n",
              " 'a beach with blue and red boats , with people on shore',\n",
              " 'men wearing hard hats and safety vests are working .',\n",
              " 'a magazine vendor sits behind a very colorful collage of magazines .',\n",
              " 'a man in a hard hat is wearing a blue shirt and blue jean overalls .',\n",
              " 'at the bakery , the fat old baker sleeps while his apprentice rubs the flour out of his eyes , seated beside him .',\n",
              " 'a group of shirtless men are sitting in the shade on a tropical beach .',\n",
              " 'a boy in his blue swim shorts at the beach .',\n",
              " 'a skier is overlooking a snow-covered mountain .',\n",
              " 'a boy wearing a red shirt is riding his bike right next to a mound of dirt .',\n",
              " 'bikers in a bike race take a sharp left turn .',\n",
              " 'three boys playing and biking with a pile of sand in the middle',\n",
              " 'elderly man with a cane bends over near a man and woman .',\n",
              " 'a doctor and nurses in blue scrubs are performing an operation .',\n",
              " 'a black and white dog jumps after a yellow toy .',\n",
              " 'a woolly dog chases a doberman on a beach .',\n",
              " 'a man stand there after rolling a bowling ball down a lane .',\n",
              " 'an old weathered , bearded man wearing all black , riding a beautiful white donkey on white rocks .',\n",
              " 'a man and woman napping on a blue couch .',\n",
              " 'a man wearing a yellow shirt is throwing a javelin on a track .',\n",
              " 'a crowd watching air balloons at night .',\n",
              " 'a woman is reading a magazine over another woman &apos;s shoulder .',\n",
              " 'two men squat to light candles at night .',\n",
              " 'a young man is walking through a busy street beside a mall .',\n",
              " 'the little boy rides his bicycle in a race .',\n",
              " 'a group of people sitting at a table in a darkened room .',\n",
              " 'a man with two dogs on a beach',\n",
              " 'a boy covered in suds has his face wiped clean .',\n",
              " 'dozens of people are partying on a boat .',\n",
              " 'a young woman on a boat in a light colored bikini kicks a man wearing a straw cowboy hat .',\n",
              " 'a boy sliding down a slide into a pool with colorful tubes .',\n",
              " 'a man in a wetsuit is throwing a toddler up in the air and is ready to catch him .',\n",
              " 'a group of people riding in the back of a truck , down the road , in a country area .',\n",
              " 'two chefs prepare burgers in a restaurant kitchen .',\n",
              " 'two young boys making silly faces .',\n",
              " 'a person with brown pants is sitting around a fenced area that has sparks flying .',\n",
              " 'woman on a hill by a white cross overlooking a beach .',\n",
              " 'four girls are sitting in the grass while several men stand near them .',\n",
              " 'men at work shoveling snow from a rail track .',\n",
              " 'a man , and girl and two horses are near a contained fire .',\n",
              " 'workers wearing reflective vests working near a train car .',\n",
              " 'an older guy looking at a classic , rustic , volkswagen beetle .',\n",
              " 'a woman assembles a white metal frame on the sidewalk .',\n",
              " 'there are three dogs starring at a ball in the middle of them .',\n",
              " 'a shirtless man and a woman sitting on a dock .',\n",
              " 'men in safety vests are working on a track .',\n",
              " 'a man fixing the road with his equipment .',\n",
              " 'a woman with reddish hair applies mascara to her eyelashes .',\n",
              " 'a white dog has its head on the ground .',\n",
              " 'a woman in blue shorts and a white shirt is indoor rock climbing .',\n",
              " 'many scooters are parked together on the sidewalk .',\n",
              " 'the regional park police helicopter is preparing to land .',\n",
              " 'a man in a reflective jacket positions himself on scaffolding .',\n",
              " 'a group of fourteen is assembled in a hall with dining tables and a stage .',\n",
              " 'a teenage boy is jumping on an inflatable slide .',\n",
              " 'a family playing on a tractor on a beautiful day',\n",
              " 'an elderly woman pan frying food in a kitchen .',\n",
              " 'two young people are approached by a flamboyant young woman dressed in a red bikini and a red feathered headress .',\n",
              " 'two skiers are making their way through woodland .',\n",
              " 'skiiers at the top of a snow covered hill .',\n",
              " 'a brown dog running next to grass .',\n",
              " 'a woman in a green shirt and jeans kneels on a stoop with coffee in hand , her purse beside her and a large door behind her , as she fills out paperwork .',\n",
              " 'people are crossing a city street intersection .',\n",
              " 'a woman dressed in light purple and wearing a corsage clasps her hands in her lap .',\n",
              " 'a mother and children is fishing on a boardwalk at night .',\n",
              " 'six males playing a game in the sand with wooden paddles .',\n",
              " 'a woman in a green tank top is surrounded by three children , laughing .',\n",
              " 'a male in a black shirt , and black pants , working on the engine of an old , green antique automobile , with a yellow gas canister sitting on the grass .',\n",
              " 'a woman in a blue jacket rides a brown pony near water .',\n",
              " 'two horses pull a carriage driven by a woman over snow covered ground .',\n",
              " 'a person climbing down a sheer rock cliff using a rope',\n",
              " 'the group of hikers is resting in front of a mountain .',\n",
              " 'a woman standing in front of a chalk drawing',\n",
              " 'three young adults are sitting around , with the girl pretending to kick one of the guys in the face while laughing , and the guy behind him looks like he &apos;s in midsentence .',\n",
              " 'a group of kids in class with their hands in the air .',\n",
              " 'a man wearing swimming trunks jumps off a concrete platform into a large body of water .',\n",
              " 'woman meticulously working with a sewing machine .',\n",
              " 'a lady in a white t-shirt is looking toward the person with their arm raised in the air .',\n",
              " 'a girl working at a farm market selling peppers .',\n",
              " 'an elderly women is sitting in a chair with a cane in her hand .',\n",
              " 'a boy has blown four bubbles on the lawn .',\n",
              " 'a little boy playing in the water .',\n",
              " 'dog running out of tunnel on obstacle course',\n",
              " 'a yellow dog and a black and white dog are running in the dirt .',\n",
              " 'two men barbecuing at a beach .',\n",
              " 'a little girl in a flower print bathing suit , jumping into the ocean .',\n",
              " 'little girl in blue swimsuit standing on a handrail near a beach .',\n",
              " 'a young asian boy sits on a railing behind a row of colorful hats',\n",
              " 'a white and black dog is jumping into a pool .',\n",
              " 'the boys smiles underwater at the pool .',\n",
              " 'two people having a discussion sitting in a restaurant .',\n",
              " 'several people are taking a break while on a snowmobiling ride .',\n",
              " 'two people working on removing snow from a roof .',\n",
              " 'a young man wearing a black shirt takes a folding chair from a large stack .',\n",
              " 'a woman is walking at dusk down an urban street .',\n",
              " 'a little girl with brown hair is blowing the petals off of a flower .',\n",
              " 'three people on atv &apos;s outside .',\n",
              " 'a man on a four wheeler is flying through the air .',\n",
              " 'a man on a four-wheeler jumps near a small building .',\n",
              " 'a woman with dark hair wearing a bikini is sitting on a beach .',\n",
              " 'two hands are flipping some food in a cast iron pan , with a spatula .',\n",
              " 'two women hugging in a grassy , fenced field with a cow &apos;s behind in the background .',\n",
              " 'a large ship approaching the dock with two men awaiting its arrival .',\n",
              " 'a man in sandals and white cardigan sits on a green bench while talking on his cellphone .',\n",
              " 'a man on stage singing into a microphone .',\n",
              " 'three guys riding on an elephant with a house-like structures and trees in the background .',\n",
              " 'a mexican man sits under the hood of his truck .',\n",
              " 'a boy in yellow glasses and red-haired girl pose for the camera .',\n",
              " 'a group of people gather and holding different types of flags .',\n",
              " 'a white baby boy crying over a tipped over toy .',\n",
              " 'small boy carries a soccer ball on a field .',\n",
              " 'a woman is watching as a guy is scooping ice cream from a freezer .',\n",
              " 'a group of people are sitting on stools eating some food',\n",
              " 'people are standing around an american flag that is spread out , facing the wrong direction .',\n",
              " 'a young girl painting a picture .',\n",
              " 'a cyclist is riding a bicycle on a curved road up a hill .',\n",
              " 'a little girl in a denim jacket running through a field .',\n",
              " 'man in blue shirt and black pants is looking at his thumb on one hand while holding glasses in his other hand .',\n",
              " 'a couple kissing while going up the escalator .',\n",
              " 'a soccer player in a green uniform with a ball in is hands is being held up by some of his teammates , while an opposing player in red reaches for the ball .',\n",
              " 'men are constructing a wall in the desert .',\n",
              " 'a young group of friends adorned with face paint and feathered headbands sit on a bench .',\n",
              " 'the lady has a black sling bag .',\n",
              " 'a man in a black jacket is standing with a group of people behind him .',\n",
              " 'a black dog jumping to catch a rope toy',\n",
              " 'a young girl is looking through an old fashioned video camera .',\n",
              " 'girl in odd clothes reading a brochure while sitting on a wooden porch .',\n",
              " 'a man dressed in a funky outfit is playing guitar .',\n",
              " 'a hockey goalie is trying to prevent a goal from the opposing team .',\n",
              " 'an adult and a child walk along the beach during the day .',\n",
              " 'a man in an apron sits on a curb .',\n",
              " 'a brown and white dog jumping up to catch a frisbee while an audience watches .',\n",
              " 'two tennis players are talking on the tennis courts .',\n",
              " 'two jugglers using flaming torches are performing for a crowd of people who are sitting on steps .',\n",
              " 'two children running with no shoes on .',\n",
              " 'a baby is sitting on and playing with smooth rocks .',\n",
              " 'a boy in a gap hat is making a silly face .',\n",
              " 'five men , one wearing a white shirt standing on something , hanging up a picture of a child .',\n",
              " 'a person in a hat is playing with a boy on a beach .',\n",
              " 'a girl in a green speedo top and blue goggles holds her breath underwater .',\n",
              " 'boys on a motor-scooter riding down a busy urban street .',\n",
              " 'two ladies and a man playing a card game and drinking beer .',\n",
              " 'people enjoy a gathering with pabst blue ribbon and diet coke .',\n",
              " 'man with red shoes , white shirt and gray pants climbing .',\n",
              " 'a rock climber climbs a large rock .',\n",
              " 'a little girl playing in water on a frog sculpture .',\n",
              " 'a dog is running on the beach .',\n",
              " 'people sitting in a restaurant eating and one is reading the paper .',\n",
              " 'a girl wearing a red short and a white shirt looking through a hole .',\n",
              " 'black and white bird standing on hand of someone holding sunflower seeds',\n",
              " 'a woman in a white shirt and pink skirt is about to hit a tennis ball .',\n",
              " 'a dog is standing in the sand .',\n",
              " 'this is a man standing on a rooftop with construction in the background .',\n",
              " 'a man looks through a large camera-like device in a field near a camper and some parked vehicles .',\n",
              " 'a little boy stands in the surf .',\n",
              " 'a woman in muslim attire is walking with a young boy down the street .',\n",
              " 'the small dog is running across the lawn .',\n",
              " 'a woman is jogging on a sidewalk next to an elevated grassy platform .',\n",
              " 'a man in red pants jumping on a park table .',\n",
              " 'a dog with its mouth open running through a field torwards the camera .',\n",
              " 'smiling little girl swimming in outdoor pool .',\n",
              " 'a bike sitting in a street with a rope tied to it and a guy walking on the rope .',\n",
              " 'a man and child on a ship doing maintenance .',\n",
              " 'a small child doing a handstand on a bed .',\n",
              " 'men wearing orange safety vest are working on street repairs .',\n",
              " 'a man with a safety vest is kneeling down and cleaning the bricks .',\n",
              " 'workman are completing repairs on a city street .',\n",
              " 'man is standing on white sand and holding a snowboard .',\n",
              " 'a man in an orange vest standing atop a building .',\n",
              " 'a guy in a yellow shirt and light brown slacks is playing golf while the crowd watch .',\n",
              " 'a young girl in a karate uniform holding a large trophy .',\n",
              " 'a kid with floaters jumping into a lake .',\n",
              " 'a woman in pink cuts a hamburger with a spatula .',\n",
              " 'a boy in a dirty shirt is walking through knee-high ocean water .',\n",
              " 'a man standing beside the back of a nude statue .',\n",
              " 'a little toddler dressed in white is smiling while a lady helps him wave a flag .',\n",
              " 'a person stands on a structure on the lake .',\n",
              " 'a young man in a gray jacket stands behind the counter of a jewelery store and smiles .',\n",
              " 'people walking up and down the steps to a church .',\n",
              " 'a number of children enjoy themselves on the coast of a city .',\n",
              " 'a female works out near the ocean side .',\n",
              " 'two men are working on a carpentry project with hand tools .',\n",
              " 'a woman and two girls dressed in pink .',\n",
              " 'a man in a black suit and briefcase hurrying somewhere , while talking on his cellphone .',\n",
              " 'a brunette woman walking down a street with a cup .',\n",
              " 'a bald little boy holds a chicken while two men are sitting in the background .',\n",
              " 'a man sitting on a wall and looking at a body of water .',\n",
              " 'two dogs run through the water with a rope in their mouths .',\n",
              " 'a boy strolls by a pond in a park .',\n",
              " 'blond child with large black coat , multicolored scarf , and knit hat standing in front of a window .',\n",
              " 'brown dog with tennis ball in mouth , in water and bushes .',\n",
              " 'two brown dogs runs through the water .',\n",
              " 'a girl blowing bubbles in the swimming pool .',\n",
              " 'a pile of seaweed sits on the sand , behind it a big black dog is running in the water .',\n",
              " 'a young boy runs while wearing sandals .',\n",
              " 'a brown and white dog stands outside while it snows .',\n",
              " 'someone working on a project using a jigsaw cutting machine .',\n",
              " 'a women &apos;s roller derby team taking a break .',\n",
              " 'a boy jumps from one bed to another .',\n",
              " 'a man wearing a yellow shirt standing in the middle of two beds that a boy is jumping on in the background',\n",
              " 'a young man holding a huge chainsaw .',\n",
              " 'a man on a motorcycle without a shirt and another man standing under shade .',\n",
              " 'three people enter a building with a handwritten sign that says &quot; welcome bikers . &quot;',\n",
              " 'a man is putting up a wall .',\n",
              " 'a brown-haired woman looks at a baby eating something .',\n",
              " 'a line of people , some standing and some sitting , are waiting on a platform for a train .',\n",
              " 'two skiers stand , two sit on slopes .',\n",
              " 'people strolling in a mall with colorful decorations hanging from the ceiling .',\n",
              " 'a female blacksmith is shoeing a horse .',\n",
              " 'the child in the green one piece suit is walking past a store window .',\n",
              " 'a group of girls are cheering .',\n",
              " 'a man is inside a truck looking out with his left arm in front of a door .',\n",
              " 'a child getting out of the car wearing soccer shoes .',\n",
              " 'a white , young man in dreadlocks and a green kilt is sitting on a couch smiling .',\n",
              " 'a man in a blue shirt is kissing a woman with blond-hair on the cheek .',\n",
              " 'a man and women are posing for the camera and looking very happy together .',\n",
              " 'two children play on the path in a park .',\n",
              " 'a very colorful bus is pulled off to the side of the road as its passengers load .',\n",
              " 'a smiling woman holds a person dressed in a pig costume .',\n",
              " 'a woman wearing a blue helmet rides her bicycle in a parking lot .',\n",
              " 'a little girl wearing a green dress is standing in front of puddle .',\n",
              " 'a man wearing a helmet riding his bicycle down the street .',\n",
              " 'young boy and an older man waiting to check out .',\n",
              " 'two people take in the scene as they stand together looking out over the canyon .',\n",
              " 'a lady wearing a helmet holding a bike .',\n",
              " 'a young man standing in front of a red freight car holding a camera and taking a photo .',\n",
              " 'a person in blue shorts and wearing a walkman jogs .',\n",
              " 'a man and a woman play on a tree while others look on .',\n",
              " 'a group of young people are in a garage',\n",
              " 'three men are looking at a sign on a cross in a canyon .',\n",
              " 'a young lady sits in front of a fence with a bucket .',\n",
              " 'the woman tries to hide from work under a black sweatshirt , but her red corduroy pants give her away .',\n",
              " 'a young man cleaning a statue with a brush .',\n",
              " 'two young men clutch rags in their hands as a elderly man tells them how to clean the large cross .',\n",
              " 'a woman sits on a man &apos;s shoulders using a heavy brush as a hammer .',\n",
              " 'group setting up a wooden cross near a large boulder .',\n",
              " 'a young boy picks up a paintbrush and grins .',\n",
              " 'four men in white shirts and baseball caps sitting around a table .',\n",
              " 'a boy looking at a chopped log .',\n",
              " 'man with gray hair telling a story to a group of younger people on a bench .',\n",
              " 'two people are standing in a field holding some books .',\n",
              " 'a person doing a skateboard flip next to a black trashcan .',\n",
              " 'a man standing on a railroad track looking through his binoculars at a river .',\n",
              " 'numerous people sitting on the ground near a straw hut .',\n",
              " 'a kid may be playing soccer while in a suit .',\n",
              " 'people on bicycles waiting at an intersection .',\n",
              " 'a construction worker is building scaffolding for the job .',\n",
              " 'a little baby dressed in green and yellow wearing a bib cries .',\n",
              " 'a shirtless man leading a horse that is pulling a carriage .',\n",
              " 'a guy standing outside with no shirt on looking up at the building .',\n",
              " 'the young girl is swinging high above the ground on a nice summer day .',\n",
              " 'a young man does a skateboard trick off of a concrete bench .',\n",
              " 'the man is holding the net for the boy playing baseball .',\n",
              " 'an elderly man crouches to lift the covering off the grill wear several shish kabab are grilling .',\n",
              " 'a man wearing a black shirt and goggles is running along the street',\n",
              " 'a five person surgical team is about to perform an operation in a hospital .',\n",
              " 'a boy standing at the beach holding a blue pale and a green shovel .',\n",
              " 'a small girl spins in the waves in the bright sun .',\n",
              " 'three people sitting outside on small rocks behind a big bush , wearing long pants .',\n",
              " 'a man with a pitchfork stands near a bucket of branches across from an apartment complex .',\n",
              " 'a groundskeeper has collected a bucket full of sticks .',\n",
              " 'black and white dog looking at camera with man bent over in the background .',\n",
              " 'a man wearing suspenders in standing on a train .',\n",
              " 'two men and two women are preparing a large meal in the kitchen .',\n",
              " 'girl learning about animals at the zoo .',\n",
              " 'a group of friends are fishing off the loading ramp',\n",
              " 'a mother and son read a book about dinosaurs together .',\n",
              " 'two women , sitting at a table , with a green straw inside of a drink .',\n",
              " 'a little boy in overalls crying .',\n",
              " 'three men are setting up a sledge on a snowy plain .',\n",
              " 'a person is sitting behind two large baskets of bread .',\n",
              " 'a man in an pilot uniform is walking down the sidewalk carrying luggage .',\n",
              " 'people walking along a river near a beautiful homestead .',\n",
              " 'a female swimmer wearing a swim cap and nose clips moves slowly through the water is seen from below .',\n",
              " 'four men sitting and working on laptops .',\n",
              " 'a man in a baseball cap cleans out a blue colored pit outside where colorful christmas lights hang above him .',\n",
              " 'a girl sleeping with a baby doll wearing a princess costume',\n",
              " 'a female washes her medium-sized dog outdoors in a plastic container while a friend secures it with a leash .',\n",
              " 'a kid jumping into a pool of water .',\n",
              " 'child in black jacket , red pants and fleece had sleeps on a red jacket .',\n",
              " 'the old man in the brown hat is sitting on the bench .',\n",
              " 'three kids on a grass field , one of them searching for food in her mom &apos;s purse .',\n",
              " 'a black man operates an orange crane .',\n",
              " 'three girls walk under an arbor on a path surrounded by trees .',\n",
              " 'a beach is full of many people .',\n",
              " 'people are gathered around and walking buy a display of clothing and other items .',\n",
              " 'man paddling a boat on a river near the bank .',\n",
              " 'two women stand together holding a pot and a pan of food .',\n",
              " 'a young girl wearing yellow flip-flops is sitting on a large boulder .',\n",
              " 'blond woman driving a red bicycle carriage holds the tip of her hat and poses for the camera with a customer seated in the back .',\n",
              " 'a young boy in a flowered apron is helping his mother cook .',\n",
              " 'a young man is presenting another woman with a cake with three candles on top .',\n",
              " 'the woman with the hat is selling some fruits and root crops .',\n",
              " 'person wearing a hooded jacket sitting on snow in front of a yellow tent .',\n",
              " 'two dogs are wrestling in a grassy field .',\n",
              " 'a man in a safety vest is kneeling down and working on a train .',\n",
              " 'five construction workers dig a hole to plant a tree .',\n",
              " 'a man in a red shirt is giving toys to a small dog .',\n",
              " 'old lady sitting in a room full of flowers .',\n",
              " '5 athletes wearing white tops and white bottoms are doing a routine for an audience .',\n",
              " 'construction workers standing outside looking at wires above them .',\n",
              " 'a happy young boy sits in a chair with a large elmo doll .',\n",
              " 'a child is brushing an infant &apos;s hair .',\n",
              " 'young man showing off by performing a karate move for surprised girl .',\n",
              " 'a man eating in a messy kitchen .',\n",
              " 'a teenage boy has a silver ring protruding from his nose .',\n",
              " 'this man is smiling very big at the camera .',\n",
              " 'a group of young people are playing in a fountain of water .',\n",
              " 'a woman throwing a frisbee on a beach .',\n",
              " 'the dark brown dog is playing with the light brown dog .',\n",
              " 'a guy wearing protective gear is welding a steel beam .',\n",
              " 'man in orange shorts builds a sand castle , combining multiple pictures into one resulting in four copies of him .',\n",
              " 'two men and a dog are standing among rolling green hills .',\n",
              " 'a group of people walking on a street in front of an amc building .',\n",
              " 'a white male wearing glasses is blowing a bubble in a house .',\n",
              " 'an adult shows a young child a fencing outfit which is set up on a tree .',\n",
              " 'a big dog catches a ball on his nose',\n",
              " 'a man and two women wearing all black act out a scene in front of a building with steps .',\n",
              " 'two children wearing jeans squirt water at each other .',\n",
              " 'a tan colored dog is jumping into an outdoor pool .',\n",
              " 'people sitting in a circle with a book in the middle .',\n",
              " 'couple , man and woman , with little girl all of them dressed in wedding apparel while standing along shoreline .',\n",
              " 'lots of people walking under a awning of pink and white balloons',\n",
              " 'a line of six children in bathing suits prepare to leap into a swimming pool .',\n",
              " 'two bakery employees wearing red aprons are preparing food .',\n",
              " 'a little child with a red cap and a duck are in the grass .',\n",
              " 'parents are pushing little children in red car carts .',\n",
              " 'one man in a blue shirt is operating a watering hose and another man in a brown shirt is moving tarps .',\n",
              " 'three boys wearing florida marlins hats .',\n",
              " 'a family coming back from shopping and a gentlemen is reading his newspaper to the side of the street .',\n",
              " 'two women holding hands in the air while jumping .',\n",
              " 'a woman carries a child in her arm and holds another child &apos;s hand as they walk outside next to a building .',\n",
              " 'a dog walks through a field .',\n",
              " 'a busy street with lots of people standing around talking and two are holding bikes .',\n",
              " 'colored woman rolling a bowling ball down an alley .',\n",
              " 'a soccer player in a red uniform goes after the ball , fending off a player in white .',\n",
              " 'a group of people walking down a trail in the woods .',\n",
              " 'three children are playing with a red ball in a park .',\n",
              " 'a little boy kicking a rubber ball .',\n",
              " 'this picture of a man reading is tilted .',\n",
              " 'a man on a ladder wearing blue jacket and a blue jeans',\n",
              " 'three road workers in orange jackets and pants clean up with a wheelbarrow .',\n",
              " 'a man on stilts stands in front of a line of drummers .',\n",
              " 'a young guy , probably in his early twenties , shows off his culinary skills with pride .',\n",
              " 'terrier dog playing with toy on blanket',\n",
              " 'a dog running across a grassy field with a stick in its mouth .',\n",
              " 'a boy with glasses and plaid shirt reads a book .',\n",
              " 'a young man looks at a book on the ground in a wooded area .',\n",
              " '2 men stand in line at a restaurant .',\n",
              " 'several children sit on a carnival ride in front of the face of a clown and several fake balloons .',\n",
              " 'a woman with dirty blond-hair and glasses is cutting something .',\n",
              " 'a man wearing a ball cap and a blue t-shirt rides a white horse down a dirt road through lush , green nature .',\n",
              " 'a middle-aged woman cooking while her dog watches .',\n",
              " 'redhead woman in pigtails and glasses sewing on a sewing machine .',\n",
              " 'two men in a room looking at a computer screen .',\n",
              " 'a gray dog runs along side a pool while a yellow dog jumps into the pool .',\n",
              " 'a child is sliding down a hill on a sled .',\n",
              " 'a man and a woman locking arms ( wearing expensive clothing ) next to glass display ( perhaps retail stores ) on the sidewalk in an urban setting .',\n",
              " 'two workers toil in a smelting factory .',\n",
              " 'an old woman sits in a transit station next to a backlit advertisement .',\n",
              " 'people waiting outside a building next to a mural .',\n",
              " 'three people push a piece of large machinery through the street .',\n",
              " 'a man wearing a sleeveless shirt and construction helmet .',\n",
              " 'a man with a beard and a hat is begging for money from people .',\n",
              " 'the girl on the unicycle reaches out for the child on the scooter .',\n",
              " 'skiers get caught on the dusty slopes and almost fall down and break their legs .',\n",
              " 'a man wearing a plastic bib with a crab on it , holds up a wooden hammer .',\n",
              " 'a man jumps off of a small stone bridge while three children and a woman watch him .',\n",
              " 'person sitting on concrete landing next to body of water',\n",
              " 'a man playing a guitar while a couple is listening and watching another man dancing to the music .',\n",
              " 'some construction workers are taking a break .',\n",
              " 'a woman in a bright green sweater is playing with a dragon puppet a garden .',\n",
              " 'large amount of people sitting up against the walls of buildings .',\n",
              " 'a child hold green shoes is walking in the sand by the water .',\n",
              " 'a wedding day with the bride in a bright white beautiful dress',\n",
              " 'a person wearing a purple jacket stands behind a tall tree .',\n",
              " 'customers are waiting for service at a takeout window .',\n",
              " 'a woman with a floral shirt and purse and a man with a black shirt are walking while another man walks behind them .',\n",
              " 'bird &apos;s eye view of a man ascending a staircase outdoors .',\n",
              " 'men and women wearing white swim caps giving each other piggyback rides .',\n",
              " 'a family is sitting outside enjoying themselves in a park area .',\n",
              " 'a brunette woman is sitting in a blue folding chair and reading at the beach .',\n",
              " 'commuters rush to get on the late train .',\n",
              " 'a baby and a young child are sitting together in a highchair .',\n",
              " 'a group of worshipers hold their services in a public park .',\n",
              " 'a man is sitting in front of a computer monitor holding a keyboard and looking at the camera .',\n",
              " 'a child is laying down on a wooden bench .',\n",
              " 'surrounded by spectators , a man in a red shirt , white pants and visor , swings a golf club .',\n",
              " 'two men are discussing sometime near a wall with some graffiti on it .',\n",
              " 'some people with black belts , or black and red belts , are performing martial arts on a green mat .',\n",
              " 'a female martial arts student demonstrates with a weapon while others watch .',\n",
              " 'several young adults performing in martial arts clothing .',\n",
              " 'a young women sits at a vending stall labeled ice creams and programs .',\n",
              " 'a boy poses for a picture and in the background a man is hanging by a rope .',\n",
              " 'two people are sitting with their backs facing cotton candy .',\n",
              " 'a girl in a yellow dress with the sun shining on her face',\n",
              " 'eight gentlemen are working with stone &amp; amp ; tile .',\n",
              " '2 women wearing brightly colored clothes are sitting next to a dirt road on a rock having a conversation while they &apos; re watching the field .',\n",
              " 'two men in black eating a sandwich .',\n",
              " 'closeup of a man in a bar , holding his glasses slanted in front of his face .',\n",
              " 'a boy is sitting on rectangular blocks .',\n",
              " 'a child is playing in the street , doing a cartwheel .',\n",
              " 'a man is sitting behind a hard wood counter .',\n",
              " 'a man in a black jacket is taking a photo of a man in a red jacket .',\n",
              " 'a man in a yellow jumpsuit rowing a boat with a bird in front .',\n",
              " 'a male with a hat is juggling four balls .',\n",
              " 'a person in a black hat is holding multicolored juggling pins .',\n",
              " 'five people are sitting around a table , outside , playing a card game .',\n",
              " 'family sitting on a bench near the beach .',\n",
              " 'a man and a woman can prepare meals at camp together .',\n",
              " 'the four hikers walked up the gravel road .',\n",
              " 'two african american makes play their trumpets in a major city with onlookers watching .',\n",
              " 'people at a distance trying to climb a cliff .',\n",
              " 'two police officers look at a house from a distance with binoculars .',\n",
              " 'a group of children in brown outfits are performing .',\n",
              " 'two young male hikers using a map and compass to find their direction in the woods .',\n",
              " 'two men on the side of a barge',\n",
              " 'three children , baby in the center , sit in an outdoor swing chair .',\n",
              " 'a child stands ready with a baseball mitt .',\n",
              " 'two girls standing on grass face each other .',\n",
              " 'group of people walking on the heavy snow .',\n",
              " 'two workers that are working on the side of a street in neon yellow vests .',\n",
              " 'city workers fixing concrete on a road .',\n",
              " 'a construction crew working at several spots on the road .',\n",
              " 'a man with red-hair working on his bicycle .',\n",
              " 'a woman sitting on a bench in front of a large painting .',\n",
              " 'a young boy plays on a swing .',\n",
              " 'two men in the woods using a chainsaw to cut some trees .',\n",
              " 'construction workers work on a road into the night .',\n",
              " 'a man wearing a black jacket is playing guitar .',\n",
              " 'group of people standing or sitting outside of a cafe .',\n",
              " 'a man with a guitar is sitting on a bench outside with three other people sitting by him .',\n",
              " 'a man and a woman fish from a boat .',\n",
              " 'a young child holds a spoon to its mouth while sitting in a chair .',\n",
              " 'a man in a tan fisherman &apos;s cap puts lip balm on a woman in a boat .',\n",
              " 'a man adjusts the knobs on a large sound mixing board .',\n",
              " 'a woman in a striped shirt and black hair stands facing some booths .',\n",
              " 'a black dog and a brown dog playing in tall weeds .',\n",
              " 'a man in a red and white checked shirt plays in a park .',\n",
              " 'two men take measurements of a wall at an open construction site .',\n",
              " 'a man in a white shirt is playing tennis .',\n",
              " 'a brown dog jumping in the air on a brown plain .',\n",
              " 'a young woman standing on a window ledge of brick building while child looks on .',\n",
              " 'two teenage girls , one wearing a white jersey and the other wearing a red jersey , playing soccer .',\n",
              " 'a young baby sucking a binky asleep in a chair .',\n",
              " 'a man pulling a fancy rickshaw along a waterway smiles and gives the &quot; thumbs up &quot; sign .',\n",
              " 'a closeup of a child on a playground with adult supervision .',\n",
              " 'a man in a red shirt pins a younger man in a white shirt to a blue padded mat .',\n",
              " 'these men are practicing martial arts .',\n",
              " 'women and men in a different country looking like they are clapping',\n",
              " 'a woman shops at a farmers market .',\n",
              " 'people walk around and mingle in a large open space with a dog .',\n",
              " 'two women wearing hats covered in flowers are posing .',\n",
              " 'the little girl is riding in a brown horse .',\n",
              " 'a teenage boy is talking to a group of teenage girls .',\n",
              " 'a man is sitting at an outside bar near many soda and beer cans .',\n",
              " 'three people stand outside around two grills where meat is being cooked .',\n",
              " 'an asian family is picnicking at the beach while others play in the water .',\n",
              " 'two men in tall hats frown at the camera',\n",
              " 'three people sit on wood benches set on white and orange tile .',\n",
              " 'the man is wearing a white shirt and sunglasses .',\n",
              " 'a group of three individuals are working in a cluttered office setting .',\n",
              " 'a boy in a wetsuit jumps into a pool with a bald man .',\n",
              " 'a boy is diving off a diving board into a swimming pool .',\n",
              " 'two emergency responders are at the scene of an incident .',\n",
              " 'a man creating a clay object at a potters wheel .',\n",
              " 'people having a barbecue by the beach .',\n",
              " 'a woman is holding a little girl who is trying to catch bubbles .',\n",
              " 'two men are hanging out and grilling',\n",
              " 'a woman playing a guitar in front of a group of people standing outside .',\n",
              " 'two dogs are playing together on green grass .',\n",
              " 'an artist consults the plan for her section of an elaborate chalk drawing on a sidewalk .',\n",
              " 'a man at work , butchering a cow .',\n",
              " 'a man with a large feather in his hat rides a horse .',\n",
              " 'two persons carry a large , inflatable bottle , past a young woman and a parked white car .',\n",
              " 'these girls are in uniforms and are playing field hockey .',\n",
              " 'a white and tan dog leaps through the air .',\n",
              " 'a woman in the middle of throwing a bowling ball in a bowling alley .',\n",
              " 'one man is playing the drums while another is singing karaoke .',\n",
              " 'a brown horse stands near a black horse that is sitting on the ground .',\n",
              " 'a kid looking over a carnival booth counter at the various toys .',\n",
              " 'a man sleeps in a hammock next to water and a boat .',\n",
              " 'eleven little girls posing as a team in a pool .',\n",
              " 'a man in a gray and black sweater is sitting on a stool in front of a group of cages .',\n",
              " 'a very unusually dressed man sitting beside an ice cream cooler .',\n",
              " 'a man in a brown shirt is sitting on the sidewalk and playing a guitar .',\n",
              " 'a little girl with a tiara eating in someones lap .',\n",
              " 'a black and brown dog is laying on a white shaggy carpet .',\n",
              " 'the three girls sat on the beach .',\n",
              " 'a little boy looks at his reflection in a burnished marble wall .',\n",
              " 'men and women on bikes stop to look at something .',\n",
              " 'a little girl in pink dances with her hands on her hips .',\n",
              " 'a man and woman enjoy a cigarette outside of a shop .',\n",
              " 'an asian city at night with a large number of people walking around .',\n",
              " 'a woman wearing a blue jacket reaching out to a child .',\n",
              " 'a man dressed as a cook enjoys a meal and bottle of wine in an empty restaurant .',\n",
              " 'a man with facial hair in white clothes eating a steak .',\n",
              " 'three men work quickly preparing food in the kitchen of an upper-class chinese restaurant .',\n",
              " 'a man sits on a rock .',\n",
              " 'a young girl in a yellow dance , dancing on a stage with a baseball field in the background .',\n",
              " 'the kids play in the wooded area near the water .',\n",
              " 'a girl in a pink shirt lies on her back in the grass .',\n",
              " 'a couple holds a sign that reads teaching children for peace .',\n",
              " 'three people wearing colorful costumes and masks sitting between two stone statues .',\n",
              " 'a man on bicycle riding down a rocky hill .',\n",
              " 'three young girls dance on the beach in the sand .',\n",
              " 'young girl in blue dress stepping over a soccer ball .',\n",
              " 'a snarling brown and black dog corners a brown long-haired cat under a wooden bench .',\n",
              " 'many people are standing and are watching something .',\n",
              " '2 people sit barefoot in a tent , one with a beer and one lounging playing a guitar .',\n",
              " 'a man in shorts is chopping wood outside a teepee .',\n",
              " 'one boy in a striped shirt and one girl in a green shirt each riding on bicycles with training wheels .',\n",
              " 'an adult and a child sitting on a police motorcycle .',\n",
              " 'a man with no shirt on and a hat is using a hammer and anvil .',\n",
              " 'a woman in black is playing a cello type instrument .',\n",
              " 'two men in a wooden boat , one wearing yellow and one wearing black , traveling on a smooth body of water .',\n",
              " 'a young man with ginger hour is playing a game of pool .',\n",
              " 'a man in a red outfit is riding a red motorbike uphill on a motocross circuit .',\n",
              " 'a woman giving a blond-haired toddler a drink from a cup .',\n",
              " 'six women are sitting at a table together in front of a bookshelf .',\n",
              " 'people walk by a display of underwear hanging in a stall .',\n",
              " 'two bicyclists pose by a stream for a picture .',\n",
              " 'two children are standing on a green metal fence .',\n",
              " 'a young boy wearing a clever black and white shirt with his head bowed down',\n",
              " 'a truck has just crashed into the back of another truck .',\n",
              " 'two restaurant employees exchange a plate of food under a mongolian bbq neon sign .',\n",
              " 'two boys playing in the water wearing shorts .',\n",
              " 'a green john deere tractor in a field pulling a red trailer .',\n",
              " 'two children are playing on a makeshift barrel swing .',\n",
              " 'a varied crowd mills about ( or rough-houses ) on a public street , with lots of bicycles on display .',\n",
              " 'two people do jumping jacks on the beach',\n",
              " 'there are about a dozen of men in work clothes that are getting directions for a task .',\n",
              " 'the 3 dogs are cruising down the street .',\n",
              " 'the lady in the red car is crossing the bridge .',\n",
              " 'a girl with a black purse sitting on a wooden bench .',\n",
              " 'a man in a plaid shirt connecting his black laptop to his microscope .',\n",
              " 'a man is painting on a sidewalk in the city .',\n",
              " 'a girl in a white shirt is sitting on a park bench with a dog next to her .',\n",
              " 'a man riding a bike wearing a green shirt with a drink in his hand .',\n",
              " 'a man is playing a small guitar-like instrument and singing into a microphone .',\n",
              " 'the women with shorts has her hand placed on a white car .',\n",
              " 'a person is standing with one leg propped up with an object with a blue line in his left hand .',\n",
              " 'kids playing at a playground on a stack of tires',\n",
              " 'a man in red snow gear looks at an expanse of snow and mountains .',\n",
              " 'a man wearing a wife-beater , sitting around fruit in a low budget market .',\n",
              " 'a boy in a red hat and black shirt is skateboarding near a red and white striped curb .',\n",
              " 'a young child is climbing a rock wall in all his protective gear .',\n",
              " 'asian woman in white shirt standing away from the crowd behind her .',\n",
              " 'a woman on a subway is falling asleep .',\n",
              " 'a female athlete ties the laces of one of her cleats on the field .',\n",
              " 'a man in yellow and green shorts jumping in a living room .',\n",
              " 'young girl stirs a pot with a spoon in the kitchen while wearing a large black blanket .',\n",
              " 'several travelers either standing or sitting on what appears to be a subway car .',\n",
              " 'a boy experiencing and exhibit at the museum .',\n",
              " 'a male gymnast leaps over a stack of wooden platforms .',\n",
              " 'a dog trots across the ground with a large stick in his mouth .',\n",
              " 'man wearing protective eye gear performs a science experiment while woman watches .',\n",
              " 'a tall man stirring a pot of food on a stove .',\n",
              " 'a woman is being interviewed at her dining table .',\n",
              " 'a woman with long brunette hair and a beige hoodie is standing near cabinets .',\n",
              " 'a man with gloves works in a lab .',\n",
              " 'a boy laying on the grass face down with a football at his feet .',\n",
              " 'a woman realigns her sock in a messy park .',\n",
              " 'boy and his family celebrating his birthday with a brightly lit cake .',\n",
              " 'a man driving a green miniature train .',\n",
              " 'a man in a white t-shirt is smiling as looking at something .',\n",
              " 'a man is pouring drinks at a table .',\n",
              " 'two black dogs are trotting through an empty public area .',\n",
              " 'a girl in a green shirt jumps in the air .',\n",
              " 'about 12 kids and a few adults get splashed by an off-camera source .',\n",
              " 'an old man in traditional costume seems to be in a cheerful mood .',\n",
              " 'a female with blond-hair is cutting a watermelon on a marble countertop .',\n",
              " 'people are standing on a platform to board a train .',\n",
              " 'a little boy wearing a blue baseball cap is sitting on a dock overlooking the water .',\n",
              " 'groups of people observe fish in a large tank .',\n",
              " 'four people walking across thick snow during a sunset .',\n",
              " 'a waiter presenting an order to the kitchen staff .',\n",
              " 'a woman in a teal shirt and a beige cardigan looks away from the board game she is sitting in front of .',\n",
              " 'people waiting in line for their favorite beverage .',\n",
              " 'a military or police officer stands by as people pass in a public square .',\n",
              " 'a woman in a red dress covers another woman &apos;s eyes .',\n",
              " 'a woman reading a newspaper and a man in a green jacket riding a train .',\n",
              " 'a man standing and cheering amongst a stadium of others sitting .',\n",
              " 'a man without a shirt is walking on top of lots of rocks .',\n",
              " 'a boy in a red sweater running on the beach',\n",
              " 'a couple walking at a gathering with a balloon in the air behind them .',\n",
              " 'a man in a black hat walks down the street .',\n",
              " 'a man is standing on a street holding a sign .',\n",
              " 'the man on the beach looking for stuff with metal detector .',\n",
              " 'a young boy wearing a blue t-shirt holds up an odd-looking object for inspection while standing among trees .',\n",
              " 'two young children are standing in hall .',\n",
              " 'the waterskier does a flip behind a boat .',\n",
              " 'a small boy is sitting on a bench next to a large jelly bean mascot .',\n",
              " 'two people are wakeboarding in the water and are being pulled by a boat .',\n",
              " 'a man sprinkles seasonings on his barbecue in front of foliage .',\n",
              " 'boy with dark skin , standing on his head with legs spread , at the end of a floating wooden boat .',\n",
              " 'two men are playing music on a bench .',\n",
              " 'two woman in colorful costumes look at a little girl wearing a brown vest .',\n",
              " 'some children watching fish in a pool .',\n",
              " 'a backhoe is on top of a pile of rubble from a demolished building .',\n",
              " 'three boys play with paddles on the beach .',\n",
              " 'a woman in a light blue jacket is riding a bike .',\n",
              " 'someone is taking a stroll on their bike .',\n",
              " 'two people with helmets are riding bikes in front of a building .',\n",
              " 'two bicyclists riding beside some railroad tracks .',\n",
              " 'a couple enjoy a beautiful day bicycling on a bike trail wearing bicycling safety helmets and gloves .',\n",
              " 'women in bike helmets take break from long ride .',\n",
              " 'a man wearing a black helmet , blue jacket , and khaki shirts rides his bike on the street next to a red car .',\n",
              " 'kid about to go on bike ride with parent',\n",
              " 'two little boys look back as they walk across a grassy area .',\n",
              " 'child on a small motorbike near a small pond .',\n",
              " 'two little blond girls in helmets are sitting on a red atv .',\n",
              " 'a boy in white plays baseball .',\n",
              " 'a young boy with his tongue stuck out is climbing onto a wooden platform .',\n",
              " 'a woman standing at the counter of a takeout window .',\n",
              " 'a dog wearing a blue harness stands in the snow and pants .',\n",
              " 'a woman is standing next to a japanese version of disney &apos;s snow white .',\n",
              " 'a woman orders a dish at a street kitchen vendor .',\n",
              " 'dogs pulling a sled in a sled race .',\n",
              " 'a lone musician in black is on stage , playing an acoustic guitar and singing into a microphone .',\n",
              " 'a young boy in a swimming suit sits in water .',\n",
              " 'a woman in jeans walking along a pathway with green railing .',\n",
              " 'a woman in a black shirt is hugging a man .',\n",
              " 'a woman squatting in the grass is smiling at a little boy , as he smiles and raises his hands in the air .',\n",
              " 'the dog has red straps in its back .',\n",
              " 'a black dog and a white dog are standing on snow .',\n",
              " 'a dog jumping in the water at a beack .',\n",
              " 'a brown , fluffy dog jumping into a swimming pool after a red toy .',\n",
              " 'a white dog jumping to catch a red ball .',\n",
              " 'a boy jumps from one table to another at a park .',\n",
              " 'two and four footed neighbors stop by to visit .',\n",
              " 'a heavyset couple interact outside a striped cabana on a beach located near a pier .',\n",
              " 'a young girl tries her hand at gardening .',\n",
              " 'a lady that &apos;s holding a yellow bag is sitting on a chair in a store .',\n",
              " 'a woman reaching out to lights .',\n",
              " 'three young women perform a dance in a crowded hall .',\n",
              " 'there are three swimmers from the same team getting ready to compete .',\n",
              " 'two people are swimming in water next to a red buoy .',\n",
              " 'two boys stand beside a pile of garbage on the ground .',\n",
              " 'a little boy is holding a green and yellow sponge while standing in front of a stove .',\n",
              " 'a woman squatting to face a small child while holding a dog .',\n",
              " 'a man standing in a hole in front of a woman in a garden .',\n",
              " 'a worker in a blue hat is fixing the wall .',\n",
              " 'a woman in traditional islamic garb walks through a plaza with a bearded man .',\n",
              " 'a family poses for a photo at dinner .',\n",
              " 'a woman talks animatedly to her companion next to a body of water .',\n",
              " 'man with hat juggling in front of a captivated audience .',\n",
              " 'a man on a phone and woman sitting near a painting .',\n",
              " 'a woman holding a dog on a leash .',\n",
              " 'a person is setting at a table in a cafe .',\n",
              " 'a woman is drinking from a green straw .',\n",
              " 'a gentleman in a purple scarf and hat is looking at money while holding an accordion .',\n",
              " 'a lady in a red and black striped shirt is sitting on a retaining wall .',\n",
              " 'a crowd of people are standing together on a sidewalk , while one man is taking a picture .',\n",
              " 'the woman in glasses is holding a red and white sale bag .',\n",
              " 'four boys run down a stone paved sidewalk .',\n",
              " 'a female looking out the window as a male looks in .',\n",
              " 'a hiker with an american flag on his backpack walks through the woods .',\n",
              " 'a man in a red shirt sits at a table with a glass of water .',\n",
              " 'a man cooking something in an old fire burning oven with a apron on .',\n",
              " 'these people are cooking lots of food .',\n",
              " 'a little girl in a sweater is swung around by an unseen hand .',\n",
              " 'a man in a jumpsuit and hat tends to a large spool of rope .',\n",
              " 'a boy in swim trunks does a backflip into the ocean while mountains show through the fog behind him .',\n",
              " 'an injured , bloody person sitting with friends in a hospital waiting room .',\n",
              " 'six shirtless men are standing outside leaning on or standing near a fence .',\n",
              " 'a painter shows off his talent in front of a group of people',\n",
              " 'a boy is holding his nose and jumping off a diving board backwards into a lake .',\n",
              " 'a young boy pulls a car toy up a hill .',\n",
              " 'an asian woman in a red sweater holding her baby .',\n",
              " 'a asian man gives an evil eye to the camera .',\n",
              " 'a toddler wearing a onesie is stretching to see a video game in an arcade .',\n",
              " 'a young boy laying face down in water .',\n",
              " 'three boys in size order getting wet next to a wall',\n",
              " 'a woman with braids is kneeling down and adjusting string on a machine',\n",
              " 'two people with yellow backpacks hiking up a hill .',\n",
              " 'in a tree filled park a man stretches .',\n",
              " 'various passengers on a bus look out the window or into the distance .',\n",
              " 'two male security officers are restraining another man by the shoulders and arms .',\n",
              " 'two hikers walk down an arid slope next to a green conifer .',\n",
              " 'the boy has blond-hair and a dirty face .',\n",
              " 'a woman looks stone-faced in the mirror as she applies eyeliner .',\n",
              " 'a few guys playing soccer on a field .',\n",
              " 'a man in a hawaiian shirt is playing an orange electric guitar on a stage .',\n",
              " 'people on a crowded train or bus in asia .',\n",
              " 'there is a man on a bucking horse holding on tightly while the crowd watches at a rodeo .',\n",
              " 'an adult man wearing jeans and black shirt holding a beverage .',\n",
              " 'a man has his arms around two women who are posing for a picture with him .',\n",
              " 'a mobile food station set up to serve patrons on the city streets .',\n",
              " 'a woman with a red jacket and her companion eating snacks .',\n",
              " 'a very young boy sliding down a slide into a swimming pool , wearing blue floaties .',\n",
              " 'girl with green tank top standing in the middle of a train track with multicolor train cars to the right .',\n",
              " 'girl is standing out on the train tracks .',\n",
              " 'a fisherman is preparing his nets for his next haul .',\n",
              " 'a woman is sitting on a stool with an accordion .',\n",
              " 'two gray dogs run through a field of pink heather .',\n",
              " 'a young boy with swimming goggles , jumping into a swimming pool .',\n",
              " 'people are working on the factory floor while yellow stacks of paper go by .',\n",
              " 'a young man , barefoot along side the beach , prunes a tree .',\n",
              " 'two kids on wakeboards attempt to give one another a high-five .',\n",
              " 'an outdoor cafe with people sitting while a man in white shirt is walking toward them .',\n",
              " 'there are many people with black hair heading through some doors and a few coming out .',\n",
              " 'several people walk up a staircase .',\n",
              " 'a man dressed in a burgundy shirt and black pants maneuvering a puppet which is holding a musical instrument .',\n",
              " 'the two racers drove the white bike down the road .',\n",
              " 'two boys , one in a red and one in a white uniform , fight for control over the ball during a soccer match .',\n",
              " 'a man in a yellow vest sweeping a sidewalk .',\n",
              " 'an asian family prepares meat on skewers at a night market .',\n",
              " 'a black dog swims in the water .',\n",
              " 'two men , one standing and one on a bicycle are talking outside a building .',\n",
              " 'the group is watch a cartoon on a small electric device .',\n",
              " 'a man with a shoulder bag walking in the desert on sand with footprints behind him and the horizon with many stormy clouds .',\n",
              " 'a smiling boy runs through the grass .',\n",
              " 'a brown horse is standing behind a girl and is sniffing her hair .',\n",
              " 'young chefs are arranging food in a kitchen .',\n",
              " 'a boy in blue shirt splashing in water under a dock',\n",
              " 'a boy splashing through the ocean .',\n",
              " 'workers are serving up customers lined up in front of a martins famous louisiana sausages vendor tent',\n",
              " 'two girls are performing tricks on a trampoline .',\n",
              " 'a girl in a red bikini is jumping into a pool .',\n",
              " 'a man is pulling a cart covered in chairs .',\n",
              " 'a dog with a red collar and its tongue hanging out runs through tall grass .',\n",
              " 'a young boy covering his face while sitting on a trampoline .',\n",
              " 'a smiling woman in a purple shirt and white apron wiping her hands on a napkin .',\n",
              " 'person hanging upside down from poles',\n",
              " 'a man wearing a gray t-shirt and blue jeans stands ready to hit a golf ball at a driving range .',\n",
              " 'two puppies run across flat stones in garden area .',\n",
              " 'dogs running on a cold but sunny morning',\n",
              " 'an older black woman is operating her electric wheelchair .',\n",
              " 'a green tinted hand is being held up in front of a table of people .',\n",
              " 'two men are working on train tracks .',\n",
              " 'a little girl in an elaborate green and orange dress is chasing after a pink and white balloon figure .',\n",
              " 'these two women are having fun while taking pictures .',\n",
              " 'a man in a red shirt is jumping from a large rock formation .',\n",
              " 'several people are riding on a roller coaster while reacting to going through a loop in various ways .',\n",
              " 'a young boy examines a field of pumpkins , with some already in his wheelbarrow .',\n",
              " 'guy playing banjo in the park as a duck enjoys the music .',\n",
              " 'the girl in the purple top and shorts , wearing a hat , is laughing .',\n",
              " 'woman in a bikini top is walking on the beach',\n",
              " 'a man in a dark jacket stands next to a man dressed in brown reaching down into a bag .',\n",
              " 'a man on stage performing a concert for people .',\n",
              " 'an ice cream truck is stopped in front of two small apartment buildings .',\n",
              " 'a boy wearing black swimming trunks is standing in a fountain .',\n",
              " 'a young asian boy leaps for joy into a pool of water , his tongue stuck out for joy .',\n",
              " 'some kids playing near the street .',\n",
              " 'this boy is playing on a playground with tires on it .',\n",
              " 'a scuba diver swimming deep underwater with a turtle .',\n",
              " 'a group of people carry things down a narrow road .',\n",
              " 'a brown dog is sitting in some long grass .',\n",
              " 'an african-american baby is crawling on the floor near a table .',\n",
              " 'a man walking down the street with a small boy .',\n",
              " 'a man is carrying a trash barrel past a statue of an angel .',\n",
              " 'a young woman at an open air market buying bread .',\n",
              " 'a blond girl in a white dress holding a bird in a tree .',\n",
              " 'two people go ice skating in a rink .',\n",
              " 'a little boy and a little girl are lying on a black bench surrounded by adults .',\n",
              " 'a boy and a girl playing on the beach .',\n",
              " 'an elderly man is wearing overalls and holding a paintbrush .',\n",
              " 'an old man is napping on a park bench .',\n",
              " 'a man with a blue baseball cap on is sleeping against a rock .',\n",
              " 'a gentleman in traditional garb weaving a blanket in a field .',\n",
              " 'a man in a yellow shirt vacuums a floor while looking at the camera .',\n",
              " 'young african man does work in a field .',\n",
              " 'a tan dog walks along a grassy path with his long pink tongue hanging out .',\n",
              " 'an asian man in a suit on the subway , asleep .',\n",
              " 'a woman in a white shirt mixing something on the kitchen counter .',\n",
              " 'people inside of a building with their heads down with a view outside of bikes .',\n",
              " 'a bike rider wearing a red shirt and black shorts is attended to by city workers .',\n",
              " 'a man in dirty jeans on top of a scaffolding .',\n",
              " 'two chefs talk together behind a tiled restaurant calendar in a fancy restaurant .',\n",
              " 'a woman in a white apron prepares various meats on a large grill .',\n",
              " 'a man in sitting in front of a large calvin klein steel advertisement with a long instrument .',\n",
              " 'a man and woman , both wearing shorts , are walking down a sidewalk .',\n",
              " 'a pair of dancers perform on a red brick street .',\n",
              " 'a young boy in a white shirt is holding a wrapper .',\n",
              " 'a man in a white t-shirt cleaning up debris .',\n",
              " 'older man in orange jumpsuit holding a water hose .',\n",
              " '2 boys in the foreground in a karate competition and coaches in background looking on with another coach sitting at table .',\n",
              " 'individuals with balloons participating in a walk .',\n",
              " 'people waiting to cross the street in front of a pharmacy with lit up sign .',\n",
              " 'a woman with glasses drinks coffee at a cafe .',\n",
              " 'a man in a bowling alley getting ready to throw the bowling ball down the lane .',\n",
              " 'a girl removes her eye makeup with an ear swab .',\n",
              " 'a large black and white dog is running through a grassy field .',\n",
              " 'a man studying for his exams outside a bookstore',\n",
              " 'a young man in a red shirt cooking in a frying pan .',\n",
              " 'one man kissing another man on the check and both are in white shirts with black vests .',\n",
              " 'a group of people , dressed the same walking down the street , in a parade .',\n",
              " 'people stand on a colorful balcony .',\n",
              " 'two men beating on drums and one man blowing a horn sitting outside .',\n",
              " 'a farmer walks his pet pig down the dirt road .',\n",
              " 'two girls in bright green boots and a woman are together .',\n",
              " 'a marketplace with rolling carts selling fruits .',\n",
              " 'a woman with blond-hair and sunglasses sitting at a table and smiling .',\n",
              " 'three working class african american men are outside .',\n",
              " 'a little girl is swinging in a baby swing on the playground .',\n",
              " 'a girl standing in the ocean',\n",
              " 'two children are on the beach and are playing in the wet sand .',\n",
              " 'a young woman smiling in the distance is enjoying a bubble bath .',\n",
              " 'a child wearing black and white swim gear kneeling in shallow water over a plastic yellow boat filled with wet sand .',\n",
              " 'a man is breakdancing on the floor around a crowd of people .',\n",
              " 'a man and woman enjoy a ride down the rapids on a warm day .',\n",
              " 'a girl doing a split handstand on the beach during the day with a amusement park in the background .',\n",
              " 'a man in an orange shirt is using a scraper in a sifter .',\n",
              " 'two girls sparring with a red and blue bat while another girl watches .',\n",
              " 'a woman is pushing a young girl in a swing .',\n",
              " 'two boys posing in blue shirts and khaki shorts .',\n",
              " 'a group of people wait at a platform while a train passes them .',\n",
              " 'a small girl playing , on the sidewalk , with a stick .',\n",
              " 'a man pushing a hand-truck of boxes is bending over to pick up a pear .',\n",
              " 'a vendor standing in the window of her shop .',\n",
              " 'several men of indian origin are conversing and one , in particular , seems very excited about the conversation .',\n",
              " 'island woman cooking outside with pineapples and fruit .',\n",
              " 'a group of people in kilts are playing music while a runner in black runs by .',\n",
              " 'a man opening a barbecue oven while holding tongs .',\n",
              " 'the little girl is wearing a denim dress and holding a brown teddy bear .',\n",
              " 'a man catches a decent sized fish and is taking it off the hook',\n",
              " 'a man with a ponytail and tan tank top sitting on a couch counting on his fingers .',\n",
              " 'a man with a green shirt on is working .',\n",
              " 'two young attractive women with shorts cross a street of a busy city .',\n",
              " 'the man climbs through the rocks and snow .',\n",
              " 'this picture is of a young girl practicing gymnastics in a gym .',\n",
              " 'two beige dogs are playing in the snow .',\n",
              " 'a man about to step off the edge of a desert rock formation .',\n",
              " 'three women in dresses and headscarves outside .',\n",
              " 'a little boy and his bike sit outside the kuthhoop hotel .',\n",
              " 'the sunshine behind a group of trees on a long rode .',\n",
              " 'a man in an orange shirt is taking a picture .',\n",
              " 'a crowd cheers on a baseball team .',\n",
              " 'a man and a much younger boy , both wearing hats , taking a stroll through nature .',\n",
              " 'little boy pushing another little boy up the pole .',\n",
              " 'a man with a white shirt and tie is standing on a sidewalk between cement barriers .',\n",
              " 'a boy reaches the top of a jungle gym .',\n",
              " 'two people in black vests are standing in front of children in white vests with an american flag between them .',\n",
              " 'a man with swords battling a female with a spear .',\n",
              " 'two men in the middle of the action of a fighting match .',\n",
              " ...]"
            ]
          },
          "execution_count": 6,
          "metadata": {},
          "output_type": "execute_result"
        }
      ],
      "source": [
        "text_lst"
      ]
    },
    {
      "cell_type": "code",
      "execution_count": null,
      "metadata": {
        "id": "ZAPG1O_lw5xh"
      },
      "outputs": [],
      "source": [
        "inputs = tokenizer(text_lst,max_length=50,truncation=True,padding='max_length',return_tensors='tf')\n",
        "inputs_test = tokenizer(text_lst_test,max_length=50,truncation=True,padding='max_length',return_tensors='tf')"
      ]
    },
    {
      "cell_type": "code",
      "execution_count": null,
      "metadata": {
        "colab": {
          "base_uri": "https://localhost:8080/"
        },
        "id": "Z8z6ti0hxNST",
        "outputId": "04248bbd-9b2b-4c51-e397-f4833df45f82"
      },
      "outputs": [
        {
          "data": {
            "text/plain": [
              "dict_keys(['input_ids', 'token_type_ids', 'attention_mask', 'labels'])"
            ]
          },
          "execution_count": 7,
          "metadata": {},
          "output_type": "execute_result"
        }
      ],
      "source": [
        "inputs['labels'] = inputs['input_ids']\n",
        "inputs_test['labels'] = inputs_test['input_ids']\n",
        "inputs.keys()"
      ]
    },
    {
      "cell_type": "code",
      "execution_count": null,
      "metadata": {
        "id": "WlhRoqfexUm-"
      },
      "outputs": [],
      "source": [
        "inp_ids = []\n",
        "lbs = []\n",
        "idx = 0\n",
        "for inp in inputs.input_ids.numpy():\n",
        "    actual_tokens = list(set(range(50)) -\n",
        "                         set(np.where((inp == 101) | (inp == 102)\n",
        "                            | (inp == 0))[0].tolist()))\n",
        "    #We need to select 15% random tokens from the given list\n",
        "    num_of_token_to_mask = int(len(actual_tokens)*0.15)\n",
        "    token_to_mask = np.random.choice(np.array(actual_tokens),\n",
        "                                     size=num_of_token_to_mask,\n",
        "                                     replace=False).tolist()\n",
        "    #Now we have the indices where we need to mask the tokens\n",
        "    inp[token_to_mask] = 103\n",
        "    inp_ids.append(inp)\n",
        "    idx += 1\n",
        "inp_ids = tf.convert_to_tensor(inp_ids)\n",
        "inputs['input_ids'] = inp_ids\n",
        "\n"
      ]
    },
    {
      "cell_type": "code",
      "execution_count": null,
      "metadata": {
        "id": "vOVIYwjP5n19"
      },
      "outputs": [],
      "source": [
        "inp_ids_test = []\n",
        "lbs_test = []\n",
        "idx_test = 0\n",
        "\n",
        "mask_loc = []\n",
        "for inp in inputs_test.input_ids.numpy():\n",
        "    actual_tokens = list(set(range(50)) -\n",
        "                         set(np.where((inp == 101) | (inp == 102)\n",
        "                            | (inp == 0))[0].tolist()))\n",
        "    #We need to select 15% random tokens from the given list\n",
        "    num_of_token_to_mask = int(len(actual_tokens)*0.15)\n",
        "    token_to_mask = np.random.choice(np.array(actual_tokens),\n",
        "                                     size=num_of_token_to_mask,\n",
        "                                     replace=False).tolist()\n",
        "    #Now we have the indices where we need to mask the tokens\n",
        "    inp[token_to_mask] = 103\n",
        "    inp_ids_test.append(inp)\n",
        "    idx_test += 1\n",
        "    mask_loc.append(token_to_mask)\n",
        "inp_ids_test = tf.convert_to_tensor(inp_ids_test)\n",
        "inputs_test['input_ids'] = inp_ids_test"
      ]
    },
    {
      "cell_type": "code",
      "execution_count": null,
      "metadata": {
        "colab": {
          "base_uri": "https://localhost:8080/"
        },
        "id": "93vrWygE58xR",
        "outputId": "32c63dc9-0765-4cdb-d863-7f29ae0be443"
      },
      "outputs": [
        {
          "data": {
            "text/plain": [
              "TensorShape([96, 50])"
            ]
          },
          "execution_count": 14,
          "metadata": {},
          "output_type": "execute_result"
        }
      ],
      "source": [
        "inp_ids_test"
      ]
    },
    {
      "cell_type": "code",
      "execution_count": null,
      "metadata": {
        "colab": {
          "base_uri": "https://localhost:8080/"
        },
        "id": "29BbRtRVxbP_",
        "outputId": "aaafaf95-8dbf-47c3-807d-48c538c58aa5"
      },
      "outputs": [
        {
          "data": {
            "text/plain": [
              "<tf.Tensor: shape=(40883, 50), dtype=int32, numpy=\n",
              "array([[ 101, 2048, 2402, ...,    0,    0,    0],\n",
              "       [ 101,  103, 2273, ...,    0,    0,    0],\n",
              "       [ 101, 1037, 2210, ...,    0,    0,    0],\n",
              "       ...,\n",
              "       [ 101,   53, 9750, ...,    0,    0,    0],\n",
              "       [ 101, 1037, 2158, ...,    0,    0,    0],\n",
              "       [ 101,  102,    0, ...,    0,    0,    0]], dtype=int32)>"
            ]
          },
          "execution_count": 15,
          "metadata": {},
          "output_type": "execute_result"
        }
      ],
      "source": [
        "inp_ids"
      ]
    },
    {
      "cell_type": "code",
      "execution_count": null,
      "metadata": {
        "colab": {
          "base_uri": "https://localhost:8080/"
        },
        "id": "Fet3uxJW6D7d",
        "outputId": "b703dba6-9ca6-4fac-c275-e100a28b0798"
      },
      "outputs": [
        {
          "data": {
            "text/plain": [
              "<tf.Tensor: shape=(96, 50), dtype=int32, numpy=\n",
              "array([[ 101, 1037, 2158, ...,    0,    0,    0],\n",
              "       [ 101, 1037, 3731, ...,    0,    0,    0],\n",
              "       [ 101, 1037, 2611, ...,    0,    0,    0],\n",
              "       ...,\n",
              "       [ 101, 1037, 3287, ...,    0,    0,    0],\n",
              "       [ 101,  103, 3080, ...,    0,    0,    0],\n",
              "       [ 101,  102,    0, ...,    0,    0,    0]], dtype=int32)>"
            ]
          },
          "execution_count": 16,
          "metadata": {},
          "output_type": "execute_result"
        }
      ],
      "source": [
        "inp_ids_test"
      ]
    },
    {
      "cell_type": "code",
      "execution_count": null,
      "metadata": {
        "id": "H3Y6Ykt0xhJj"
      },
      "outputs": [],
      "source": [
        "model.compile(optimizer=tf.keras.optimizers.Adam(learning_rate=0.0001,beta_1=0.9,\n",
        "    beta_2=0.999,\n",
        "    epsilon=1e-07,),loss=tf.keras.losses.SparseCategoricalCrossentropy(from_logits=True))\n",
        "\n"
      ]
    },
    {
      "cell_type": "code",
      "execution_count": null,
      "metadata": {
        "colab": {
          "background_save": true,
          "base_uri": "https://localhost:8080/"
        },
        "id": "ZUm9lY2OzG1l",
        "outputId": "53ceb741-2a54-4540-80d4-0ce14ce390f9"
      },
      "outputs": [
        {
          "name": "stdout",
          "output_type": "stream",
          "text": [
            " 404/1813 [=====>........................] - ETA: 5:10:44 - loss: 0.0701"
          ]
        }
      ],
      "source": [
        "model.fit([inputs.input_ids,inputs.attention_mask],inputs.labels,verbose=1,batch_size=16,epochs=1)"
      ]
    },
    {
      "cell_type": "code",
      "execution_count": null,
      "metadata": {
        "id": "si7egIvpXIPT"
      },
      "outputs": [],
      "source": [
        "model.save_pretrained(\"/content/gdrive/MyDrive/Bert\", from_pt=True)"
      ]
    },
    {
      "cell_type": "code",
      "execution_count": null,
      "metadata": {
        "id": "XFOxWmSm6Nbe"
      },
      "outputs": [],
      "source": [
        "#model.eval()\n",
        "out = model(inputs_test).logits.numpy()"
      ]
    },
    {
      "cell_type": "code",
      "execution_count": null,
      "metadata": {
        "id": "XfwmI30bOhV8"
      },
      "outputs": [],
      "source": [
        "mask_loc_test = []\n",
        "\n",
        "#cnt0 = 0\n",
        "\n",
        "for i in inputs_test.input_ids:\n",
        "    cnt1 = 0\n",
        "    mask = []\n",
        "    for j in i:\n",
        "        if j == 103:\n",
        "           mask.append(cnt1)\n",
        "        cnt1 += 1\n",
        "    mask_loc_test.append(mask)\n",
        "\n",
        "#mask_loc = np.where(inputs_test.input_ids.numpy() == 103)#.tolist()\n"
      ]
    },
    {
      "cell_type": "code",
      "execution_count": null,
      "metadata": {
        "colab": {
          "base_uri": "https://localhost:8080/"
        },
        "id": "isugsgwSQJ46",
        "outputId": "7c76d450-900e-417f-b070-e6211bf20f2b"
      },
      "outputs": [
        {
          "data": {
            "text/plain": [
              "<tf.Tensor: shape=(100,), dtype=int32, numpy=\n",
              "array([ 101, 1037, 2158, 1999, 2019, 4589, 6045,  103, 2012, 2242, 1012,\n",
              "        102,    0,    0,    0,    0,    0,    0,    0,    0,    0,    0,\n",
              "          0,    0,    0,    0,    0,    0,    0,    0,    0,    0,    0,\n",
              "          0,    0,    0,    0,    0,    0,    0,    0,    0,    0,    0,\n",
              "          0,    0,    0,    0,    0,    0,    0,    0,    0,    0,    0,\n",
              "          0,    0,    0,    0,    0,    0,    0,    0,    0,    0,    0,\n",
              "          0,    0,    0,    0,    0,    0,    0,    0,    0,    0,    0,\n",
              "          0,    0,    0,    0,    0,    0,    0,    0,    0,    0,    0,\n",
              "          0,    0,    0,    0,    0,    0,    0,    0,    0,    0,    0,\n",
              "          0], dtype=int32)>"
            ]
          },
          "execution_count": 45,
          "metadata": {},
          "output_type": "execute_result"
        }
      ],
      "source": [
        "inputs_test.input_ids[0]"
      ]
    },
    {
      "cell_type": "code",
      "execution_count": null,
      "metadata": {
        "colab": {
          "base_uri": "https://localhost:8080/"
        },
        "id": "2aJB8oQyPUg3",
        "outputId": "02ab3f69-0221-45c4-c97a-2e33eeda57e3"
      },
      "outputs": [
        {
          "data": {
            "text/plain": [
              "<tf.Tensor: shape=(96, 100), dtype=int32, numpy=\n",
              "array([[ 101, 1037, 2158, ...,    0,    0,    0],\n",
              "       [ 101, 1037, 3731, ...,    0,    0,    0],\n",
              "       [ 101, 1037, 2611, ...,    0,    0,    0],\n",
              "       ...,\n",
              "       [ 101,  103, 3287, ...,    0,    0,    0],\n",
              "       [ 101, 2019,  103, ...,    0,    0,    0],\n",
              "       [ 101,  102,    0, ...,    0,    0,    0]], dtype=int32)>"
            ]
          },
          "execution_count": 40,
          "metadata": {},
          "output_type": "execute_result"
        }
      ],
      "source": [
        "inputs_test.input_ids"
      ]
    },
    {
      "cell_type": "code",
      "execution_count": null,
      "metadata": {
        "id": "4wuBqa-eQ89n"
      },
      "outputs": [],
      "source": [
        "predicted_tokens = []\n",
        "truth_tokens = []\n",
        "\n",
        "for i in range(len(out)):\n",
        "    predicted = []\n",
        "    truth = []\n",
        "    for j in mask_loc_test[i]:\n",
        "        predicted.append(np.argmax(out[i][j]))\n",
        "        truth.append(inputs_test.labels[i][j])\n",
        "    predicted_tokens.append(predicted)\n",
        "    truth_tokens.append(truth)\n"
      ]
    },
    {
      "cell_type": "code",
      "execution_count": null,
      "metadata": {
        "colab": {
          "base_uri": "https://localhost:8080/",
          "height": 35
        },
        "id": "Bbjg2iP4BLyz",
        "outputId": "7d2d9532-4d85-450b-f27e-67deac61154a"
      },
      "outputs": [
        {
          "data": {
            "application/vnd.google.colaboratory.intrinsic+json": {
              "type": "string"
            },
            "text/plain": [
              "'.'"
            ]
          },
          "execution_count": 13,
          "metadata": {},
          "output_type": "execute_result"
        }
      ],
      "source": [
        "tokenizer.decode(predicted_tokens[0])"
      ]
    },
    {
      "cell_type": "code",
      "execution_count": null,
      "metadata": {
        "colab": {
          "base_uri": "https://localhost:8080/",
          "height": 71
        },
        "id": "flYQblcYTOYl",
        "outputId": "0e014bae-7468-4772-9f64-b135c75c4023"
      },
      "outputs": [
        {
          "data": {
            "application/vnd.google.colaboratory.intrinsic+json": {
              "type": "string"
            },
            "text/plain": [
              "'[CLS] a boston terrier is running on lush green grass in front of a white fence. [SEP] [PAD] [PAD] [PAD] [PAD] [PAD] [PAD] [PAD] [PAD] [PAD] [PAD] [PAD] [PAD] [PAD] [PAD] [PAD] [PAD] [PAD] [PAD] [PAD] [PAD] [PAD] [PAD] [PAD] [PAD] [PAD] [PAD] [PAD] [PAD] [PAD] [PAD] [PAD]'"
            ]
          },
          "execution_count": 23,
          "metadata": {},
          "output_type": "execute_result"
        }
      ],
      "source": [
        "tokenizer.decode(np.argmax(out[1],axis = -1))"
      ]
    },
    {
      "cell_type": "code",
      "execution_count": null,
      "metadata": {
        "colab": {
          "base_uri": "https://localhost:8080/",
          "height": 71
        },
        "id": "dHRigj3QTcfR",
        "outputId": "a8215461-60c2-4f2e-b47d-1c3551f31e23"
      },
      "outputs": [
        {
          "data": {
            "application/vnd.google.colaboratory.intrinsic+json": {
              "type": "string"
            },
            "text/plain": [
              "'[CLS] a boston terrier is running on lush green grass in front of a white fence. [SEP] [PAD] [PAD] [PAD] [PAD] [PAD] [PAD] [PAD] [PAD] [PAD] [PAD] [PAD] [PAD] [PAD] [PAD] [PAD] [PAD] [PAD] [PAD] [PAD] [PAD] [PAD] [PAD] [PAD] [PAD] [PAD] [PAD] [PAD] [PAD] [PAD] [PAD] [PAD]'"
            ]
          },
          "execution_count": 24,
          "metadata": {},
          "output_type": "execute_result"
        }
      ],
      "source": [
        "tokenizer.decode(inputs_test.labels[1])"
      ]
    },
    {
      "cell_type": "code",
      "execution_count": null,
      "metadata": {
        "colab": {
          "base_uri": "https://localhost:8080/",
          "height": 35
        },
        "id": "awiJqr4dSL2Q",
        "outputId": "f3a42c71-1052-4e82-daf6-7f6158dca263"
      },
      "outputs": [
        {
          "data": {
            "application/vnd.google.colaboratory.intrinsic+json": {
              "type": "string"
            },
            "text/plain": [
              "'.'"
            ]
          },
          "execution_count": 14,
          "metadata": {},
          "output_type": "execute_result"
        }
      ],
      "source": [
        "tokenizer.decode(truth_tokens[0])"
      ]
    },
    {
      "cell_type": "code",
      "execution_count": null,
      "metadata": {
        "id": "9SDKJWk7SSFK"
      },
      "outputs": [],
      "source": [
        "cnt = 0\n",
        "sum = 0\n",
        "for i in range(len(predicted_tokens)):\n",
        "  for j in range(len(predicted_tokens[i])):\n",
        "    sum += 1\n",
        "    if predicted_tokens[i][j] == truth_tokens[i][j]:\n",
        "      cnt += 1"
      ]
    },
    {
      "cell_type": "code",
      "execution_count": null,
      "metadata": {
        "colab": {
          "base_uri": "https://localhost:8080/"
        },
        "id": "O6jjORM5SmiD",
        "outputId": "39a3c30b-6e9b-4bb1-d05f-1eec291c2859"
      },
      "outputs": [
        {
          "data": {
            "text/plain": [
              "0.5807799442896936"
            ]
          },
          "execution_count": 16,
          "metadata": {},
          "output_type": "execute_result"
        }
      ],
      "source": [
        "cnt/sum"
      ]
    }
  ],
  "metadata": {
    "colab": {
      "provenance": []
    },
    "kernelspec": {
      "display_name": "Python 3",
      "name": "python3"
    },
    "language_info": {
      "name": "python"
    }
  },
  "nbformat": 4,
  "nbformat_minor": 0
}